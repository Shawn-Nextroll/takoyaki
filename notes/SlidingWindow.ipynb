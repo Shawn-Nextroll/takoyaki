{
 "cells": [
  {
   "cell_type": "markdown",
   "metadata": {},
   "source": [
    "## Pattern Sliding Window"
   ]
  },
  {
   "cell_type": "markdown",
   "metadata": {},
   "source": [
    "### Key Points\n",
    "\n",
    "#### general sliding window\n",
    "- Initialize **window_start** and **window_end** to visualize the window\n",
    "- Expand the window 1 step each iteration\n",
    "- Take action when the window reached a desired state. (length, sum ...)\n",
    "\n",
    "#### dynamic sliding window\n",
    "- Expand 1 step each iteration \n",
    "<br>\n",
    "**When asking smallest window**\n",
    "- Dynamically shrinks when a conditon is met, until the conditon break\n",
    "- Record when shrinks\n",
    "<br>\n",
    "**When asking largest window**\n",
    "- Dynamically shrinks when a condition breaks, until the condition is met \n",
    "- Record when expand"
   ]
  },
  {
   "cell_type": "markdown",
   "metadata": {},
   "source": [
    "### Maximum Sum Subarray of Size K (easy)\n",
    "Given an array of positive numbers and a positive number ‘k’\n",
    "<br>\n",
    "**find the maximum sum of any contiguous subarray of size ‘k’.**"
   ]
  },
  {
   "cell_type": "markdown",
   "metadata": {},
   "source": [
    "Type: Fixed Size Window\n",
    "<br>\n",
    "Conditon: windowSize == k"
   ]
  },
  {
   "cell_type": "code",
   "execution_count": 40,
   "metadata": {},
   "outputs": [],
   "source": [
    "def max_sub_array_of_size_k(k, arr):\n",
    "  max_sum , window_sum = 0, 0\n",
    "  window_start = 0\n",
    "\n",
    "  for window_end in range(len(arr)):\n",
    "    window_sum += arr[window_end]  # add the next element\n",
    "    # slide the window, we don't need to slide if we've not hit the required window size of 'k'\n",
    "    if window_end >= k-1:\n",
    "      max_sum = max(max_sum, window_sum)\n",
    "      window_sum -= arr[window_start]  # subtract the element going out\n",
    "      window_start += 1  # slide the window ahead\n",
    "  return max_sum"
   ]
  },
  {
   "cell_type": "markdown",
   "metadata": {},
   "source": [
    "### Smallest Subarray With a Greater Sum (easy)\n",
    "Given an array of positive numbers and a positive number ‘S,’ \n",
    "<br>\n",
    "find the length of the **smallest** contiguous subarray whose sum is **greater than or equal to ‘S’.** \n",
    "<br>\n",
    "Return 0 if no such subarray exists."
   ]
  },
  {
   "cell_type": "markdown",
   "metadata": {},
   "source": [
    "Type: Smallest Window\n",
    "<br>\n",
    "Condition: windowSum >= s"
   ]
  },
  {
   "cell_type": "code",
   "execution_count": 41,
   "metadata": {},
   "outputs": [],
   "source": [
    "def smallest_subarray_sum(s, arr):\n",
    "  # TODO: Write your code here\n",
    "  windowStart, windowSum = 0, 0\n",
    "  windowLength = len(arr)+1\n",
    "  for windowEnd in range(len(arr)):\n",
    "    windowSum += arr[windowEnd]\n",
    "    # shrink the window as small as possible until the 'window_sum' is smaller than 's'\n",
    "    while windowSum >= s:\n",
    "      windowLength = min(windowLength, windowEnd-windowStart+1)\n",
    "      windowSum -= arr[windowStart]\n",
    "      windowStart += 1\n",
    "  return 0 if windowLength > len(arr) else windowLength"
   ]
  },
  {
   "cell_type": "markdown",
   "metadata": {},
   "source": [
    "### Longest Substring with maximum K Distinct Characters (medium)\n",
    "Given a string, find the length of the **longest substring** in it **with no more than K distinct characters.**"
   ]
  },
  {
   "cell_type": "markdown",
   "metadata": {},
   "source": [
    "Type: Largest Window\n",
    "<br>\n",
    "Condition: distinctCharacter <= k"
   ]
  },
  {
   "cell_type": "code",
   "execution_count": 42,
   "metadata": {},
   "outputs": [],
   "source": [
    "def longest_substring_with_k_distinct(str1, k):\n",
    "  windowStart, windowLength = 0, 0\n",
    "  freq = {}\n",
    "  for windowEnd in range(len(str1)):\n",
    "    freq[str1[windowEnd]] = freq.get(str1[windowEnd], 0) + 1\n",
    "    while len(freq) > k:\n",
    "      freq[str1[windowStart]] -= 1\n",
    "      if not freq[str1[windowStart]]: \n",
    "        freq.pop(str1[windowStart])\n",
    "      windowStart += 1\n",
    "    windowLength = max(windowLength, windowEnd-windowStart+1)\n",
    "  return windowLength"
   ]
  },
  {
   "cell_type": "markdown",
   "metadata": {},
   "source": [
    "### Fruits into Baskets (medium)\n",
    "You are visiting a farm to collect fruits. The farm has a single row of fruit trees. You will be given two baskets, and your goal is to pick as many fruits as possible to be placed in the given baskets.\n",
    "<br><br>\n",
    "You will be given an array of characters where each character represents a fruit tree. The farm has following restrictions:\n",
    "<br>\n",
    "1. Each basket can have only one type of fruit. There is no limit to how many fruit a basket can hold.\n",
    "1. You can start with any tree, but you can’t skip a tree once you have started.\n",
    "1. You will pick exactly one fruit from every tree until you cannot, i.e., you will stop when you have to pick from a third fruit type."
   ]
  },
  {
   "cell_type": "markdown",
   "metadata": {},
   "source": [
    "Type: Largest Window\n",
    "<br>\n",
    "Condition: distinctFruits <= 2"
   ]
  },
  {
   "cell_type": "code",
   "execution_count": 43,
   "metadata": {},
   "outputs": [],
   "source": [
    "def fruits_into_baskets(fruits):\n",
    "  windowStart, windowLength = 0, 0\n",
    "  basket = {}\n",
    "  for windowEnd in range(len(fruits)):\n",
    "    basket[fruits[windowEnd]] = basket.get(fruits[windowEnd], 0) + 1\n",
    "    while len(basket) > 2:\n",
    "      basket[fruits[windowStart]] -= 1\n",
    "      if not basket[fruits[windowStart]]:\n",
    "        basket.pop(fruits[windowStart])\n",
    "      windowStart += 1\n",
    "    windowLength = max(windowLength, windowEnd-windowStart+1)\n",
    "  return windowLength"
   ]
  },
  {
   "cell_type": "markdown",
   "metadata": {},
   "source": [
    "### Longest Substring with Distinct Characters (hard)\n",
    "Given a string, find the **length of the longest substring**, which has all **distinct characters.**\n",
    "\n"
   ]
  },
  {
   "cell_type": "markdown",
   "metadata": {},
   "source": [
    "Type: Largest Window\n",
    "<br>\n",
    "Condition: str[windowEnd] in chars"
   ]
  },
  {
   "cell_type": "markdown",
   "metadata": {},
   "source": [
    "Thought Process: \n",
    "<br>\n",
    "1. Need to check for duplication in O(1): **use hash**\n",
    "1. Need to shrink to avoid duplication: \n",
    "    - **shrink by 1 and check**  \n",
    "    - **shrink to the last instance**\n",
    "1. Shrink immediately after duplication, thus, we have a integrity that only 1 instance of each characters are in chars"
   ]
  },
  {
   "cell_type": "code",
   "execution_count": 44,
   "metadata": {},
   "outputs": [],
   "source": [
    "def non_repeat_substring(str):\n",
    "  windowStart, windowLength = 0, 0\n",
    "  chars = set()\n",
    "  for windowEnd in range(len(str)):\n",
    "    # shrink by 1 and check for duplication  \n",
    "    while str[windowEnd] in chars:\n",
    "      chars.remove(str[windowStart])\n",
    "      windowStart += 1\n",
    "    chars.add(str[windowEnd])\n",
    "    windowLength = max(windowLength, windowEnd - windowStart + 1)\n",
    "  return windowLength\n"
   ]
  },
  {
   "cell_type": "code",
   "execution_count": 45,
   "metadata": {},
   "outputs": [],
   "source": [
    "def non_repeat_substring(str):\n",
    "  windowStart, windowLength = 0, 0\n",
    "  chars = {}\n",
    "  for windowEnd in range(len(str)):\n",
    "    # shrink to the last instance\n",
    "    if str[windowEnd] in chars:\n",
    "      windowStart = chars[str[windowEnd]] + 1\n",
    "    chars[str[windowEnd]] = windowEnd\n",
    "    windowLength = max(windowLength, windowEnd - windowStart + 1)\n",
    "  return windowLength"
   ]
  }
 ],
 "metadata": {
  "interpreter": {
   "hash": "ded1030eeaef2acccb5d82a2278047c76264da02e6a0d0d2566816da34dadee6"
  },
  "kernelspec": {
   "display_name": "Python 3.9.9 ('venv': venv)",
   "language": "python",
   "name": "python3"
  },
  "language_info": {
   "codemirror_mode": {
    "name": "ipython",
    "version": 3
   },
   "file_extension": ".py",
   "mimetype": "text/x-python",
   "name": "python",
   "nbconvert_exporter": "python",
   "pygments_lexer": "ipython3",
   "version": "3.9.9"
  },
  "orig_nbformat": 4
 },
 "nbformat": 4,
 "nbformat_minor": 2
}
