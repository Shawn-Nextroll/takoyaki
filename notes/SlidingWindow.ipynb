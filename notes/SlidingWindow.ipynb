{
 "cells": [
  {
   "cell_type": "markdown",
   "metadata": {},
   "source": [
    "## Pattern Sliding Window"
   ]
  },
  {
   "cell_type": "markdown",
   "metadata": {},
   "source": [
    "### Key Points\n",
    "- Initialize **window_start** and **window_end** to visualize the window\n",
    "- Expand the window 1 step each iteration\n",
    "- Take action when the window reached a desired state. (length, sum ...)"
   ]
  },
  {
   "cell_type": "markdown",
   "metadata": {},
   "source": [
    "### Maximum Sum Subarray of Size K (easy)\n",
    "Given an array of positive numbers and a positive number ‘k’\n",
    "<br>\n",
    "**find the maximum sum of any contiguous subarray of size ‘k’.**"
   ]
  },
  {
   "cell_type": "markdown",
   "metadata": {},
   "source": [
    "Trigger Point: windowSize == k"
   ]
  },
  {
   "cell_type": "code",
   "execution_count": 9,
   "metadata": {},
   "outputs": [],
   "source": [
    "def max_sub_array_of_size_k(k, arr):\n",
    "  max_sum , window_sum = 0, 0\n",
    "  window_start = 0\n",
    "\n",
    "  for window_end in range(len(arr)):\n",
    "    window_sum += arr[window_end]  # add the next element\n",
    "    # slide the window, we don't need to slide if we've not hit the required window size of 'k'\n",
    "    if window_end >= k-1:\n",
    "      max_sum = max(max_sum, window_sum)\n",
    "      window_sum -= arr[window_start]  # subtract the element going out\n",
    "      window_start += 1  # slide the window ahead\n",
    "  return max_sum"
   ]
  },
  {
   "cell_type": "markdown",
   "metadata": {},
   "source": [
    "### Smallest Subarray With a Greater Sum (easy)\n",
    "Given an array of positive numbers and a positive number ‘S,’ \n",
    "<br>\n",
    "find the length of the **smallest** contiguous subarray whose sum is **greater than or equal to ‘S’.** \n",
    "<br>\n",
    "Return 0 if no such subarray exists."
   ]
  },
  {
   "cell_type": "markdown",
   "metadata": {},
   "source": [
    "Trigger Point: windowSum >= s"
   ]
  },
  {
   "cell_type": "code",
   "execution_count": 10,
   "metadata": {},
   "outputs": [],
   "source": [
    "def smallest_subarray_sum(s, arr):\n",
    "  # TODO: Write your code here\n",
    "  windowStart, windowSum = 0, 0\n",
    "  windowLength = len(arr)+1\n",
    "  for windowEnd in range(len(arr)):\n",
    "    windowSum += arr[windowEnd]\n",
    "    # shrink the window as small as possible until the 'window_sum' is smaller than 's'\n",
    "    while windowSum >= s:\n",
    "      windowLength = min(windowLength, windowEnd-windowStart+1)\n",
    "      windowSum -= arr[windowStart]\n",
    "      windowStart += 1\n",
    "  return 0 if windowLength > len(arr) else windowLength"
   ]
  }
 ],
 "metadata": {
  "interpreter": {
   "hash": "ded1030eeaef2acccb5d82a2278047c76264da02e6a0d0d2566816da34dadee6"
  },
  "kernelspec": {
   "display_name": "Python 3.9.9 ('venv': venv)",
   "language": "python",
   "name": "python3"
  },
  "language_info": {
   "codemirror_mode": {
    "name": "ipython",
    "version": 3
   },
   "file_extension": ".py",
   "mimetype": "text/x-python",
   "name": "python",
   "nbconvert_exporter": "python",
   "pygments_lexer": "ipython3",
   "version": "3.9.9"
  },
  "orig_nbformat": 4
 },
 "nbformat": 4,
 "nbformat_minor": 2
}
